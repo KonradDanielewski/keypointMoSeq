{
 "cells": [
  {
   "cell_type": "code",
   "execution_count": null,
   "id": "varying-morrison",
   "metadata": {},
   "outputs": [],
   "source": [
    "import matplotlib.pyplot as plt\n",
    "import jax, jax.numpy as jnp\n",
    "import tqdm.auto as tqdm\n",
    "import pickle, sys\n",
    "import numpy as np\n",
    "\n",
    "sys.path.append('..')\n",
    "from keypoint_moseq.util import *\n",
    "from keypoint_moseq.gibbs import *\n",
    "from keypoint_moseq.initialize import *"
   ]
  },
  {
   "cell_type": "markdown",
   "id": "molecular-persian",
   "metadata": {},
   "source": [
    "### Load data"
   ]
  },
  {
   "cell_type": "code",
   "execution_count": null,
   "id": "expressed-christian",
   "metadata": {},
   "outputs": [],
   "source": [
    "# load dictionary {session_name: ndarray (time,keypoints,2)}\n",
    "keypoint_data_dict = pickle.load(open('example_keypoint_coords.p','rb'))\n",
    "\n",
    "# merge data into big array for efficient batch processing on gpu\n",
    "Y,mask,keys = merge_data(keypoint_data_dict)\n",
    "\n",
    "# convert from numpy arrays to jax device arrays\n",
    "Y,mask = jnp.array(Y),jnp.array(mask)"
   ]
  },
  {
   "cell_type": "markdown",
   "id": "packed-shade",
   "metadata": {},
   "source": [
    "### Define hyper-params"
   ]
  },
  {
   "cell_type": "code",
   "execution_count": null,
   "id": "contrary-future",
   "metadata": {},
   "outputs": [],
   "source": [
    "latent_dim = 7           # dimension of latent trajectories\n",
    "num_states = 100         # max number of states\n",
    "nlags = 3                # number of lags for AR dynamics\n",
    "\n",
    "num_keypoints = Y.shape[-2]  # number of keypoints\n",
    "keypoint_dim = Y.shape[-1]   # embedding dimension of keypoints\n",
    "\n",
    "posterior_keypoints = jnp.array([0,1,2]) # used to initialize rotations\n",
    "anterior_keypoints = jnp.array([5,6,7])  # used to initialize rotations\n",
    "\n",
    "\n",
    "trans_hypparams = {\n",
    "    'gamma': 1e3, \n",
    "    'alpha': 5.7, \n",
    "    'kappa': 1e6,\n",
    "    'num_states':num_states}\n",
    "\n",
    "ar_hypparams = {\n",
    "    'nu_0': latent_dim+2,\n",
    "    'S_0': .01*jnp.eye(latent_dim),\n",
    "    'M_0': jnp.pad(jnp.eye(latent_dim),((0,0),((nlags-1)*latent_dim,1))),\n",
    "    'K_0': 10*jnp.eye(latent_dim*nlags+1),\n",
    "    'num_states':num_states,\n",
    "    'nlags':nlags}\n",
    "\n",
    "obs_hypparams = {\n",
    "    'sigmasq_0': 10,\n",
    "    'sigmasq_C': .1,\n",
    "    'nu_sigma': 1e5,\n",
    "    'nu_s': 5,\n",
    "    's_0': 1}\n",
    "\n",
    "translation_hypparams = {\n",
    "    'sigmasq_loc': 0.5\n",
    "}"
   ]
  },
  {
   "cell_type": "markdown",
   "id": "accomplished-pantyhose",
   "metadata": {},
   "source": [
    "### Initialize"
   ]
  },
  {
   "cell_type": "code",
   "execution_count": null,
   "id": "falling-overall",
   "metadata": {},
   "outputs": [],
   "source": [
    "key = jr.PRNGKey(0)\n",
    "data = {'mask':mask, 'Y':Y}\n",
    "states = {}\n",
    "params = {}\n",
    "\n",
    "states['v'] = initial_location(**data)\n",
    "states['h'] = initial_heading(posterior_keypoints, anterior_keypoints, **data)\n",
    "states['x'],params['Cd'], pca_model = initial_latents(latent_dim=latent_dim, **data, **states)\n",
    "\n",
    "params['betas'],params['pi'] = initial_hdp_transitions(key, **trans_hypparams)\n",
    "params['Ab'],params['Q']= initial_ar_params(key, **ar_hypparams)\n",
    "params['sigmasq'] = jnp.ones(Y.shape[-2])\n",
    "\n",
    "states['z'],_ = resample_stateseqs(key, **data, **states, **params)\n",
    "states['s'] = resample_scales(key, **data, **states, **params, **obs_hypparams)\n"
   ]
  },
  {
   "cell_type": "code",
   "execution_count": null,
   "id": "living-channels",
   "metadata": {},
   "outputs": [],
   "source": [
    "plt.plot(np.arange(latent_dim)+1,np.cumsum(pca_model.explained_variance_ratio_))\n",
    "plt.xlabel('PCs')\n",
    "plt.ylabel('Explained variance')\n",
    "plt.yticks(np.arange(0.5,1.01,.1))\n",
    "plt.xticks(range(1,latent_dim+2,2))\n",
    "plt.gcf().set_size_inches((2.5,2))\n",
    "plt.grid()\n",
    "plt.tight_layout()"
   ]
  },
  {
   "cell_type": "markdown",
   "id": "million-reynolds",
   "metadata": {},
   "source": [
    "### Gibbs sampling (AR-only)"
   ]
  },
  {
   "cell_type": "code",
   "execution_count": null,
   "id": "capable-grove",
   "metadata": {},
   "outputs": [],
   "source": [
    "num_iters = 500\n",
    "plot_iters = 10\n",
    "keys = jr.split(key,num_iters)\n",
    "\n",
    "for i in tqdm.trange(num_iters):\n",
    "    params['betas'],params['pi'] = resample_hdp_transitions(keys[i], **data, **states, **params, **trans_hypparams)\n",
    "    params['Ab'],params['Q']= resample_ar_params(keys[i], **data, **states, **params, **ar_hypparams)\n",
    "    states['z'],_ = resample_stateseqs(keys[i], **data, **states, **params)\n",
    "    \n",
    "    if i % plot_iters == 0:\n",
    "        usage,durations = stateseq_stats(states['z'], mask)\n",
    "        fig,axs = plt.subplots(1,2)\n",
    "        axs[0].bar(range(len(usage)),sorted(usage, reverse=True))\n",
    "        axs[0].set_ylabel('Syllable usage')\n",
    "        axs[0].set_xlabel('Syllable rank')\n",
    "        axs[1].hist(durations, range=(0,30), bins=30, density=True)\n",
    "        axs[1].axvline(np.median(durations), linestyle='--', c='k')\n",
    "        axs[1].set_xlabel('Syllable duration (frames)')\n",
    "        axs[1].set_ylabel('Probability density')\n",
    "        fig.set_size_inches((12,3))\n",
    "        plt.show()"
   ]
  },
  {
   "cell_type": "markdown",
   "id": "utility-metallic",
   "metadata": {},
   "source": [
    "### Gibbs sampling (full model)"
   ]
  },
  {
   "cell_type": "code",
   "execution_count": null,
   "id": "embedded-melissa",
   "metadata": {},
   "outputs": [],
   "source": [
    "trans_hypparams = {\n",
    "    'gamma': 1e3, \n",
    "    'alpha': 100, \n",
    "    'kappa': 1e6/50,\n",
    "    'num_states':num_states}"
   ]
  },
  {
   "cell_type": "code",
   "execution_count": null,
   "id": "otherwise-nomination",
   "metadata": {},
   "outputs": [],
   "source": [
    "num_iters = 500\n",
    "plot_iters = 10\n",
    "keys = jr.split(key,num_iters)\n",
    "\n",
    "for i in tqdm.trange(num_iters):\n",
    "    params['Ab'],params['Q'] = resample_ar_params(keys[i], **data, **states, **params, **ar_hypparams)\n",
    "    params['sigmasq'] = resample_obs_variance(keys[i], **data, **states, **params, **obs_hypparams)\n",
    "    params['betas'],params['pi'] = resample_hdp_transitions(keys[i], **data, **states, **params, **trans_hypparams)    \n",
    "    states['z'] = resample_stateseqs(keys[i], **data, **states, **params)[0]\n",
    "    states['x'] = resample_latents(keys[i], **data, **states, **params)\n",
    "    states['h'] = resample_heading(keys[i], **data, **states, **params)\n",
    "    states['v'] = resample_location(key, **data, **states, **params, **translation_hypparams)\n",
    "    states['s'] = resample_scales(keys[i], **data, **states, **params, **obs_hypparams)\n",
    "    \n",
    "    if i % plot_iters == 0:\n",
    "        usage,durations = stateseq_stats(states['z'], mask)\n",
    "        fig,axs = plt.subplots(1,2)\n",
    "        axs[0].bar(range(len(usage)),sorted(usage, reverse=True))\n",
    "        axs[0].set_ylabel('Syllable usage')\n",
    "        axs[0].set_xlabel('Syllable rank')\n",
    "        axs[1].hist(durations, range=(0,30), bins=30, density=True)\n",
    "        axs[1].axvline(np.median(durations), linestyle='--', c='k')\n",
    "        axs[1].set_xlabel('Syllable duration (frames)')\n",
    "        axs[1].set_ylabel('Probability density')\n",
    "        fig.set_size_inches((8,2))\n",
    "        plt.suptitle('Iteration {}, Median duration = {}'.format(i, np.median(durations)))\n",
    "        plt.show()"
   ]
  },
  {
   "cell_type": "code",
   "execution_count": null,
   "id": "alleged-commitment",
   "metadata": {},
   "outputs": [],
   "source": []
  }
 ],
 "metadata": {
  "kernelspec": {
   "display_name": "jax4",
   "language": "python",
   "name": "jax4"
  },
  "language_info": {
   "codemirror_mode": {
    "name": "ipython",
    "version": 3
   },
   "file_extension": ".py",
   "mimetype": "text/x-python",
   "name": "python",
   "nbconvert_exporter": "python",
   "pygments_lexer": "ipython3",
   "version": "3.8.10"
  },
  "varInspector": {
   "cols": {
    "lenName": 16,
    "lenType": 16,
    "lenVar": 40
   },
   "kernels_config": {
    "python": {
     "delete_cmd_postfix": "",
     "delete_cmd_prefix": "del ",
     "library": "var_list.py",
     "varRefreshCmd": "print(var_dic_list())"
    },
    "r": {
     "delete_cmd_postfix": ") ",
     "delete_cmd_prefix": "rm(",
     "library": "var_list.r",
     "varRefreshCmd": "cat(var_dic_list()) "
    }
   },
   "types_to_exclude": [
    "module",
    "function",
    "builtin_function_or_method",
    "instance",
    "_Feature"
   ],
   "window_display": false
  }
 },
 "nbformat": 4,
 "nbformat_minor": 5
}
