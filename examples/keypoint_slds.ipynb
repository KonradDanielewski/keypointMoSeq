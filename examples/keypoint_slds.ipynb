{
 "cells": [
  {
   "cell_type": "code",
   "execution_count": null,
   "id": "varying-morrison",
   "metadata": {},
   "outputs": [],
   "source": [
    "import matplotlib.pyplot as plt\n",
    "import jax, jax.numpy as jnp\n",
    "import tqdm.auto as tqdm\n",
    "import pickle, sys\n",
    "import numpy as np\n",
    "\n",
    "sys.path.append('..')\n",
    "from keypoint_moseq.util import *\n",
    "from keypoint_moseq.gibbs import *\n",
    "from keypoint_moseq.initialize import *"
   ]
  },
  {
   "cell_type": "markdown",
   "id": "molecular-persian",
   "metadata": {},
   "source": [
    "### Load data"
   ]
  },
  {
   "cell_type": "code",
   "execution_count": 2,
   "id": "expressed-christian",
   "metadata": {},
   "outputs": [],
   "source": [
    "# load dictionary {session_name: ndarray (time,keypoints,2)}\n",
    "keypoint_data_dict = pickle.load(open('example_keypoint_coords.p','rb'))\n",
    "\n",
    "# merge data into big array for efficient batch processing on gpu\n",
    "Y,mask,keys = merge_data(keypoint_data_dict)\n",
    "\n",
    "# convert from numpy arrays to jax device arrays\n",
    "Y,mask = jnp.array(Y),jnp.array(mask)"
   ]
  },
  {
   "cell_type": "markdown",
   "id": "packed-shade",
   "metadata": {},
   "source": [
    "### Define hyper-params"
   ]
  },
  {
   "cell_type": "code",
   "execution_count": 3,
   "id": "contrary-future",
   "metadata": {},
   "outputs": [],
   "source": [
    "latent_dim = 7           # dimension of latent trajectories\n",
    "num_states = 100         # max number of states\n",
    "nlags = 3                # number of lags for AR dynamics\n",
    "\n",
    "num_keypoints = Y.shape[-2]  # number of keypoints\n",
    "keypoint_dim = Y.shape[-1]   # embedding dimension of keypoints\n",
    "\n",
    "posterior_keypoints = jnp.array([0,1,2]) # used to initialize rotations\n",
    "anterior_keypoints = jnp.array([5,6,7])  # used to initialize rotations\n",
    "\n",
    "\n",
    "trans_hypparams = {\n",
    "    'gamma': 1e3, \n",
    "    'alpha': 5.7, \n",
    "    'kappa': 2e5,\n",
    "    'num_states':num_states}\n",
    "\n",
    "ar_hypparams = {\n",
    "    'nu_0': latent_dim+200,\n",
    "    'S_0': 10*jnp.eye(latent_dim),\n",
    "    'M_0': jnp.pad(jnp.eye(latent_dim),((0,0),((nlags-1)*latent_dim,1))),\n",
    "    'K_0': 0.1*jnp.eye(latent_dim*nlags+1),\n",
    "    'num_states':num_states,\n",
    "    'nlags':nlags}\n",
    "\n",
    "obs_hypparams = {\n",
    "    'sigmasq_0': .1,\n",
    "    'nu_0': keypoint_dim+200,\n",
    "    'nu_k': jnp.ones(num_keypoints)*5,\n",
    "    'M_0': jnp.zeros((keypoint_dim*num_keypoints, latent_dim+1)),\n",
    "    'K_0': jnp.eye(latent_dim+1)*200}\n",
    "\n",
    "translation_hypparams = {\n",
    "    'sigmasq_loc': 0.1\n",
    "}"
   ]
  },
  {
   "cell_type": "markdown",
   "id": "accomplished-pantyhose",
   "metadata": {},
   "source": [
    "### Initialize"
   ]
  },
  {
   "cell_type": "code",
   "execution_count": 4,
   "id": "falling-overall",
   "metadata": {},
   "outputs": [],
   "source": [
    "key = jr.PRNGKey(0)\n",
    "data = {'mask':mask, 'Y':Y}\n",
    "states = {}\n",
    "params = {}\n",
    "\n",
    "states['v'] = initial_location(Y)\n",
    "states['h'] = initial_heading(Y, posterior_keypoints, anterior_keypoints)\n",
    "states['x'],params['Cd'] = initial_latents(latent_dim=latent_dim, **data, **states)\n",
    "\n",
    "params['betas'],params['pi'] = initial_hdp_transitions(key, **trans_hypparams)\n",
    "params['Ab'],params['Q']= initial_ar_params(key, **ar_hypparams)\n",
    "params['sigmasq'] = initial_variance(**data, **states, **params)\n",
    "\n",
    "states['z'] = resample_stateseqs(key, **data, **states, **params)\n",
    "states['s'] = resample_scales(key, **data, **states, **params, **obs_hypparams)\n"
   ]
  },
  {
   "cell_type": "markdown",
   "id": "million-reynolds",
   "metadata": {},
   "source": [
    "### Gibbs sampling (AR-only)"
   ]
  },
  {
   "cell_type": "code",
   "execution_count": null,
   "id": "capable-grove",
   "metadata": {},
   "outputs": [],
   "source": [
    "num_iters = 20\n",
    "plot_iters = 10\n",
    "keys = jr.split(key,num_iters)\n",
    "\n",
    "for i in tqdm.trange(num_iters):\n",
    "    params['betas'],params['pi'] = resample_hdp_transitions(keys[i], **data, **states, **params, **trans_hypparams)\n",
    "    params['Ab'],params['Q']= resample_ar_params(keys[i], **data, **states, **params, **ar_hypparams)\n",
    "    states['z'] = resample_stateseqs(keys[i], **data, **states, **params)\n",
    "    \n",
    "    if i % plot_iters == 0:\n",
    "        usage,durations = stateseq_stats(states['z'], mask)\n",
    "        fig,axs = plt.subplots(1,2)\n",
    "        axs[0].bar(range(len(usage)),sorted(usage, reverse=True))\n",
    "        axs[0].set_ylabel('Syllable usage')\n",
    "        axs[0].set_xlabel('Syllable rank')\n",
    "        axs[1].hist(durations, range=(0,30), bins=30, density=True)\n",
    "        axs[1].axvline(np.median(durations), linestyle='--', c='k')\n",
    "        axs[1].set_xlabel('Syllable duration (frames)')\n",
    "        axs[1].set_ylabel('Probability density')\n",
    "        fig.set_size_inches((12,3))\n",
    "        plt.show()"
   ]
  },
  {
   "cell_type": "markdown",
   "id": "utility-metallic",
   "metadata": {},
   "source": [
    "### Gibbs sampling (full model)"
   ]
  },
  {
   "cell_type": "code",
   "execution_count": null,
   "id": "otherwise-nomination",
   "metadata": {},
   "outputs": [
    {
     "data": {
      "application/vnd.jupyter.widget-view+json": {
       "model_id": "8cb5598062394de8a92d2b924ec66eb8",
       "version_major": 2,
       "version_minor": 0
      },
      "text/plain": [
       "  0%|          | 0/500 [00:00<?, ?it/s]"
      ]
     },
     "metadata": {},
     "output_type": "display_data"
    },
    {
     "data": {
      "image/png": "[encoded data removed]",
      "text/plain": [
       "<Figure size 864x216 with 2 Axes>"
      ]
     },
     "metadata": {
      "needs_background": "light"
     },
     "output_type": "display_data"
    }
   ],
   "source": [
    "num_iters = 500\n",
    "plot_iters = 10\n",
    "keys = jr.split(key,num_iters)\n",
    "\n",
    "for i in tqdm.trange(num_iters):\n",
    "    params['Ab'],params['Q'] = resample_ar_params(keys[i], **data, **states, **params, **ar_hypparams)\n",
    "    params['betas'],params['pi'] = resample_hdp_transitions(keys[i], **data, **states, **params, **trans_hypparams)\n",
    "    params['Cd'],params['sigmasq'] = resample_obs_params(keys[i], **data, **states, **params, **obs_hypparams)\n",
    "    states['z'] = resample_stateseqs(key, **data, **states, **params)\n",
    "    states['x'] = resample_latents(key, **data, **states, **params)\n",
    "    states['s'] = resample_scales(key, **data, **states, **params, **obs_hypparams)\n",
    "    states['h'] = resample_heading(key, **data, **states, **params)\n",
    "    states['v'] = resample_location(key, **data, **states, **params, **translation_hypparams)\n",
    "    \n",
    "    if i % plot_iters == 0:\n",
    "        usage,durations = stateseq_stats(states['z'], mask)\n",
    "        fig,axs = plt.subplots(1,2)\n",
    "        axs[0].bar(range(len(usage)),sorted(usage, reverse=True))\n",
    "        axs[0].set_ylabel('Syllable usage')\n",
    "        axs[0].set_xlabel('Syllable rank')\n",
    "        axs[1].hist(durations, range=(0,30), bins=30, density=True)\n",
    "        axs[1].axvline(np.median(durations), linestyle='--', c='k')\n",
    "        axs[1].set_xlabel('Syllable duration (frames)')\n",
    "        axs[1].set_ylabel('Probability density')\n",
    "        fig.set_size_inches((8,2))\n",
    "        plt.suptitle('Iteration {}, Median duration = {}'.format(i, np.median(durations)))\n",
    "        plt.show()"
   ]
  },
  {
   "cell_type": "code",
   "execution_count": null,
   "id": "alleged-commitment",
   "metadata": {},
   "outputs": [],
   "source": []
  }
 ],
 "metadata": {
  "kernelspec": {
   "display_name": "jax",
   "language": "python",
   "name": "jax"
  },
  "language_info": {
   "codemirror_mode": {
    "name": "ipython",
    "version": 3
   },
   "file_extension": ".py",
   "mimetype": "text/x-python",
   "name": "python",
   "nbconvert_exporter": "python",
   "pygments_lexer": "ipython3",
   "version": "3.7.10"
  }
 },
 "nbformat": 4,
 "nbformat_minor": 5
}
