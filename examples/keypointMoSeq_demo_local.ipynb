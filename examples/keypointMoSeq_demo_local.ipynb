{
 "cells": [
  {
   "cell_type": "markdown",
   "id": "deluxe-waste",
   "metadata": {},
   "source": [
    "## Keypoint MoSeq \n",
    "\n",
    "#### This notebook illustrates how fit a keypoint-SLDS model on pose tracking data (e.g. from DeepLabCut)\n",
    "\n",
    "- Make sure keypoint_moseq is [installed](XXX)\n",
    "- Change the kernel to `keypoint_moseq`\n",
    "- Download the [example data](https://drive.google.com/drive/folders/1UNHQ_XCQEKLPPSjGspRopWBj6-YNDV6G?usp=share_link)\n"
   ]
  },
  {
   "cell_type": "code",
   "execution_count": 1,
   "id": "varying-morrison",
   "metadata": {},
   "outputs": [],
   "source": [
    "from jax.config import config\n",
    "config.update('jax_enable_x64', True)\n",
    "import keypoint_moseq as kpm"
   ]
  },
  {
   "cell_type": "markdown",
   "id": "preliminary-agency",
   "metadata": {},
   "source": [
    "### Setup a new project\n",
    "- Edit `project_dir` and `dlc_config` as necessary\n",
    "- This step creates a new directory with a `config.yml` file"
   ]
  },
  {
   "cell_type": "code",
   "execution_count": 2,
   "id": "intermediate-kenya",
   "metadata": {},
   "outputs": [
    {
     "name": "stdout",
     "output_type": "stream",
     "text": [
      "The directory `demo_project` already exists. Use `overwrite=True` or\n",
      "pick a different name for the project directory\n"
     ]
    }
   ],
   "source": [
    "project_dir = 'demo_project'\n",
    "\n",
    "# option 1: set up from scratch\n",
    "# kpm.setup_project(project_dir)\n",
    "\n",
    "# option 2: set up from deeplabcut\n",
    "dlc_config = 'moseq_example-caleb-2022-11-09/config.yaml'\n",
    "kpm.setup_project(project_dir, deeplabcut_config=dlc_config)\n",
    "\n",
    "# define config loader\n",
    "config = lambda: kpm.load_config(project_dir)"
   ]
  },
  {
   "cell_type": "markdown",
   "id": "gothic-viking",
   "metadata": {},
   "source": [
    "### Edit the config file\n",
    "\n",
    "- The config can be edited manually or using `kpm.update_config`, as shown below.\n",
    "- The cell below contains all config edits necessary for the rest of the notebook. \n",
    "\n",
    "In general, the following parameters should be specified for each project..\n",
    "\n",
    "- `bodyparts` (The name of each keypoint; automatically imported if you setup from DLC)\n",
    "- `use_bodyparts` (Subset of bodyparts to use for modeling; defaults to all if you setup from DLC)\n",
    "- `anterior_bodyparts` and `posterior_bodyparts` (Used for rotational alignment)\n",
    "- `video_dir` (directory with videos of each experiment; detaults to `[DLC project path]/videos` if you setup from DLC.\n"
   ]
  },
  {
   "cell_type": "code",
   "execution_count": 3,
   "id": "theoretical-yahoo",
   "metadata": {},
   "outputs": [],
   "source": [
    "kpm.update_config(\n",
    "    project_dir,\n",
    "    video_dir = 'moseq_example-caleb-2022-11-09/videos',\n",
    "    use_bodyparts=['spine4','spine3','spine2','spine1','head','nose','right ear','left ear'],\n",
    "    anterior_bodyparts=['nose'], posterior_bodyparts=['spine4'],\n",
    "    latent_dimension=4, slope= -0.47, intercept= 0.236721)"
   ]
  },
  {
   "cell_type": "markdown",
   "id": "phantom-dating",
   "metadata": {},
   "source": [
    "### Load data\n",
    "\n",
    "- `coordinates` is a dict of (T,K,D) arrays where K is the number of keypoints and D is 2 or 3. \n",
    "- `confidences` is a dict of (T,K) arrays of **nonzero** confidence scores for each keypoint.\n",
    "\n",
    "If applying keypoint-MoSeq to your own data, note that:\n",
    "- `confidences` are optional (they are used to set the error prior for each observation)\n",
    "- if importing from DLC, data are assumed to be .h5/.csv files in `video_dir`)\n",
    "- each key in `coordinates` should start with its video name \n",
    "    - e.g. `coordinates[\"experiment1etc\"]` would correspond to `experiment1.avi`\n",
    "    - in general this will already be true if importing from DLC"
   ]
  },
  {
   "cell_type": "code",
   "execution_count": 4,
   "id": "expressed-christian",
   "metadata": {},
   "outputs": [
    {
     "name": "stdout",
     "output_type": "stream",
     "text": [
      "Searching in moseq_example-caleb-2022-11-09/videos. Use the\n",
      "``directory`` argument to specify another search location\n"
     ]
    },
    {
     "name": "stderr",
     "output_type": "stream",
     "text": [
      "Loading from deeplabcut: 100%|███████████████████████████████████████████████████████████████| 10/10 [00:07<00:00,  1.37it/s]\n"
     ]
    }
   ],
   "source": [
    "# load data from DLC\n",
    "coordinates,confidences = kpm.load_keypoints_from_deeplabcut(**config())\n",
    "\n",
    "# format for modeling (reshapes into fixed-length batches and moves to GPU)\n",
    "data,batch_info = kpm.format_data(coordinates, confidences=confidences, **config())"
   ]
  },
  {
   "cell_type": "markdown",
   "id": "processed-struggle",
   "metadata": {},
   "source": [
    "### Calibrate \n",
    "\n",
    "The purpose of calibration is to learn the relationship between error and keypoint confidence scores. The resulting regression coefficients (`slope` and `intercept`) are used during modeling to set the noise prior on a per-frame, per-keypoint basis. One can also adjust the `confidence_threshold` parameter at this step, which is used to define outlier keypoints for PCA and model initialization. **This step can be skipped for the demo data** since the config already includes suitable regression coefficients.\n",
    "\n",
    "- Run the cell below. A widget should appear with a video frame in the center.\n",
    "    - *If the widget doesn't render, try using jupyter lab rather instead of jupyter notebook*\n",
    "    \n",
    "\n",
    "- Annotate the each frame with the correct location of the labeled bodypart\n",
    "    - Left click to specify the correct location - an \"X\" should appear.\n",
    "    - Use the arrow buttons and/or sample slider on the left to annotate additional frames.\n",
    "    - Each annotation adds a point to the right-hand plot. Continue until the regression line stabilizes.\n",
    "    \n",
    "    \n",
    "- At any point, adjust the confidence threshold by clicking on the right-hand plot.\n",
    "\n",
    "\n",
    "- **Use the \"save\" button to update the config and store your annotations to disk**."
   ]
  },
  {
   "cell_type": "code",
   "execution_count": null,
   "id": "chicken-diameter",
   "metadata": {},
   "outputs": [],
   "source": [
    "kpm.noise_calibration(project_dir, coordinates, confidences, **config())"
   ]
  },
  {
   "cell_type": "markdown",
   "id": "organizational-theorem",
   "metadata": {},
   "source": [
    "### Fit PCA\n",
    "\n",
    "Run the cell below to fit a PCA model to aligned keypoint coordinates. After fitting, two plots are generated: a cumulative [scree plot](https://en.wikipedia.org/wiki/Scree_plot) and a depiction of each PC, where translucent nodes/edges represent the mean pose and opaque nodes/edges represent a perturbation in the direction of the PC. \n",
    "\n",
    "- After fitting, edit `latent_dimension` in the config. A good heuristic is the number needed to explain 90% of variance. \n",
    "- If your computer crashes at this step, try lowering `PCA_fitting_num_frames` in the config."
   ]
  },
  {
   "cell_type": "code",
   "execution_count": 5,
   "id": "respiratory-canvas",
   "metadata": {},
   "outputs": [
    {
     "name": "stdout",
     "output_type": "stream",
     "text": [
      "PCA: Interpolating low-confidence detections\n",
      "PCA: Performing egocentric alignment\n",
      "PCA: Fitting PCA model on 645711 sample poses\n",
      ">=90.0% of variance exlained by 4 components.\n"
     ]
    },
    {
     "data": {
      "image/png": "[encoded data removed]",
      "text/plain": [
       "<Figure size 250x200 with 1 Axes>"
      ]
     },
     "metadata": {},
     "output_type": "display_data"
    },
    {
     "data": {
      "image/png": "[encoded data removed]",
      "text/plain": [
       "<Figure size 1000x300 with 10 Axes>"
      ]
     },
     "metadata": {},
     "output_type": "display_data"
    }
   ],
   "source": [
    "# uncomment if you have already fit pca\n",
    "# pca = kpm.load_pca(project_dir)\n",
    "\n",
    "pca = kpm.fit_pca(**data, **config())\n",
    "kpm.save_pca(pca, project_dir)\n",
    "\n",
    "kpm.print_dims_to_explain_variance(pca, 0.9)\n",
    "kpm.plot_scree(pca, project_dir=project_dir)\n",
    "kpm.plot_pcs(pca, project_dir=project_dir, **config())"
   ]
  },
  {
   "cell_type": "markdown",
   "id": "accomplished-pantyhose",
   "metadata": {},
   "source": [
    "### Initialize and fit model (AR-HMM)"
   ]
  },
  {
   "cell_type": "code",
   "execution_count": null,
   "id": "found-administrator",
   "metadata": {},
   "outputs": [],
   "source": [
    "model = kpm.initialize_model(pca=pca, **data, **config())"
   ]
  },
  {
   "cell_type": "code",
   "execution_count": null,
   "id": "888e6ff7",
   "metadata": {
    "scrolled": false
   },
   "outputs": [],
   "source": [
    "model,history,name = kpm.fit_model(model, data, batch_info, ar_only=True, \n",
    "                                   num_iters=50, project_dir=project_dir)"
   ]
  },
  {
   "cell_type": "markdown",
   "id": "thorough-identity",
   "metadata": {},
   "source": [
    "### Reload snapshot and continue fitting (KP-SLDS)"
   ]
  },
  {
   "cell_type": "code",
   "execution_count": null,
   "id": "swiss-repeat",
   "metadata": {},
   "outputs": [],
   "source": [
    "checkpoint = kpm.load_checkpoint(project_dir=project_dir, name=name)\n",
    "\n",
    "checkpoint['hypparams']['trans_hypparams']['kappa'] = 7e4\n",
    "\n",
    "checkpoint = kpm.revert(checkpoint, 50)\n",
    "\n",
    "model,history,name = kpm.resume_fitting(**checkpoint, project_dir=project_dir, \n",
    "                                        ar_only=False, num_iters=200)\n"
   ]
  },
  {
   "cell_type": "markdown",
   "id": "empty-houston",
   "metadata": {},
   "source": [
    "### Apply the model to generate a final set of state sequences"
   ]
  },
  {
   "cell_type": "code",
   "execution_count": null,
   "id": "electric-combine",
   "metadata": {},
   "outputs": [],
   "source": [
    "checkpoint = kpm.load_checkpoint(project_dir=project_dir, name=name)\n",
    "\n",
    "results_dict = kpm.apply_model(coordinates=coordinates, confidences=confidences, \n",
    "                               project_dir=project_dir, **checkpoint, **config())"
   ]
  },
  {
   "cell_type": "markdown",
   "id": "breeding-fashion",
   "metadata": {},
   "source": [
    "### Visualize results"
   ]
  },
  {
   "cell_type": "code",
   "execution_count": null,
   "id": "subject-disney",
   "metadata": {},
   "outputs": [],
   "source": [
    "# generate plots showing the average keypoint trajectories for each syllable\n",
    "kpm.generate_trajectory_plots(coordinates, name=name, project_dir=project_dir, **config())"
   ]
  },
  {
   "cell_type": "code",
   "execution_count": null,
   "id": "dominant-packet",
   "metadata": {},
   "outputs": [],
   "source": [
    "# generate video clips for each syllable\n",
    "kpm.generate_crowd_movies(name=name, project_dir=project_dir, **config())"
   ]
  },
  {
   "cell_type": "code",
   "execution_count": null,
   "id": "bibliographic-judges",
   "metadata": {},
   "outputs": [],
   "source": []
  }
 ],
 "metadata": {
  "kernelspec": {
   "display_name": "keypoint_moseq",
   "language": "python",
   "name": "keypoint_moseq"
  },
  "language_info": {
   "codemirror_mode": {
    "name": "ipython",
    "version": 3
   },
   "file_extension": ".py",
   "mimetype": "text/x-python",
   "name": "python",
   "nbconvert_exporter": "python",
   "pygments_lexer": "ipython3",
   "version": "3.9.13"
  },
  "varInspector": {
   "cols": {
    "lenName": 16,
    "lenType": 16,
    "lenVar": 40
   },
   "kernels_config": {
    "python": {
     "delete_cmd_postfix": "",
     "delete_cmd_prefix": "del ",
     "library": "var_list.py",
     "varRefreshCmd": "print(var_dic_list())"
    },
    "r": {
     "delete_cmd_postfix": ") ",
     "delete_cmd_prefix": "rm(",
     "library": "var_list.r",
     "varRefreshCmd": "cat(var_dic_list()) "
    }
   },
   "types_to_exclude": [
    "module",
    "function",
    "builtin_function_or_method",
    "instance",
    "_Feature"
   ],
   "window_display": false
  }
 },
 "nbformat": 4,
 "nbformat_minor": 5
}
