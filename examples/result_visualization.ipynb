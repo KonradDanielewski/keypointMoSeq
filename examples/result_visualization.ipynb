{
 "cells": [
  {
   "cell_type": "markdown",
   "metadata": {},
   "source": [
    "at the end of the other notebook, there is a model object, crowd movies and trajectory plots"
   ]
  },
  {
   "cell_type": "code",
   "execution_count": 12,
   "metadata": {},
   "outputs": [],
   "source": [
    "import keypoint_moseq as kpm\n",
    "\n",
    "import numpy as np\n",
    "import pandas as pd\n",
    "import matplotlib.pyplot as plt"
   ]
  },
  {
   "cell_type": "code",
   "execution_count": 13,
   "metadata": {},
   "outputs": [],
   "source": [
    "project_dir = '/Users/sherry/Desktop/keypoint_moseq/test2'\n",
    "config = kpm.load_config(project_dir)"
   ]
  },
  {
   "cell_type": "markdown",
   "metadata": {},
   "source": [
    "## Load model"
   ]
  },
  {
   "cell_type": "code",
   "execution_count": 14,
   "metadata": {},
   "outputs": [],
   "source": [
    "name = '2022_11_13-16_02_22'\n",
    "results_dict = kpm.load_results(project_dir=project_dir, name=name)"
   ]
  },
  {
   "cell_type": "markdown",
   "metadata": {},
   "source": [
    "## Compute moseq_df (scalar_df)"
   ]
  },
  {
   "cell_type": "code",
   "execution_count": 15,
   "metadata": {},
   "outputs": [
    {
     "name": "stdout",
     "output_type": "stream",
     "text": [
      "moseq_df shape is (643911, 26)\n"
     ]
    },
    {
     "data": {
      "text/html": [
       "<div>\n",
       "<style scoped>\n",
       "    .dataframe tbody tr th:only-of-type {\n",
       "        vertical-align: middle;\n",
       "    }\n",
       "\n",
       "    .dataframe tbody tr th {\n",
       "        vertical-align: top;\n",
       "    }\n",
       "\n",
       "    .dataframe thead th {\n",
       "        text-align: right;\n",
       "    }\n",
       "</style>\n",
       "<table border=\"1\" class=\"dataframe\">\n",
       "  <thead>\n",
       "    <tr style=\"text-align: right;\">\n",
       "      <th></th>\n",
       "      <th>centroid_x</th>\n",
       "      <th>centroid_y</th>\n",
       "      <th>spine4_x</th>\n",
       "      <th>spine4_y</th>\n",
       "      <th>spine3_x</th>\n",
       "      <th>spine3_y</th>\n",
       "      <th>spine2_x</th>\n",
       "      <th>spine2_y</th>\n",
       "      <th>spine1_x</th>\n",
       "      <th>spine1_y</th>\n",
       "      <th>...</th>\n",
       "      <th>left ear_x</th>\n",
       "      <th>left ear_y</th>\n",
       "      <th>heading</th>\n",
       "      <th>velocity_px_s</th>\n",
       "      <th>syllable</th>\n",
       "      <th>syllables_reindexed</th>\n",
       "      <th>frame_index</th>\n",
       "      <th>session_name</th>\n",
       "      <th>uuid</th>\n",
       "      <th>onset</th>\n",
       "    </tr>\n",
       "  </thead>\n",
       "  <tbody>\n",
       "    <tr>\n",
       "      <th>0</th>\n",
       "      <td>245.080544</td>\n",
       "      <td>212.623394</td>\n",
       "      <td>206.233115</td>\n",
       "      <td>262.341012</td>\n",
       "      <td>233.773146</td>\n",
       "      <td>251.264219</td>\n",
       "      <td>247.025444</td>\n",
       "      <td>229.523557</td>\n",
       "      <td>251.362497</td>\n",
       "      <td>207.188198</td>\n",
       "      <td>...</td>\n",
       "      <td>265.507982</td>\n",
       "      <td>194.962114</td>\n",
       "      <td>-1.221973</td>\n",
       "      <td>0.000000</td>\n",
       "      <td>72</td>\n",
       "      <td>0</td>\n",
       "      <td>0</td>\n",
       "      <td>21_11_8_one_mouse.top.irDLC_resnet50_moseq_exa...</td>\n",
       "      <td>f03cddc5-d97c-4a7f-a3ee-6cf6f4225802</td>\n",
       "      <td>True</td>\n",
       "    </tr>\n",
       "    <tr>\n",
       "      <th>1</th>\n",
       "      <td>248.295126</td>\n",
       "      <td>210.512792</td>\n",
       "      <td>243.226305</td>\n",
       "      <td>253.714849</td>\n",
       "      <td>240.685340</td>\n",
       "      <td>236.797162</td>\n",
       "      <td>242.668869</td>\n",
       "      <td>218.155256</td>\n",
       "      <td>246.946714</td>\n",
       "      <td>203.179573</td>\n",
       "      <td>...</td>\n",
       "      <td>257.640641</td>\n",
       "      <td>198.848237</td>\n",
       "      <td>-1.221973</td>\n",
       "      <td>115.366192</td>\n",
       "      <td>72</td>\n",
       "      <td>0</td>\n",
       "      <td>1</td>\n",
       "      <td>21_11_8_one_mouse.top.irDLC_resnet50_moseq_exa...</td>\n",
       "      <td>f03cddc5-d97c-4a7f-a3ee-6cf6f4225802</td>\n",
       "      <td>False</td>\n",
       "    </tr>\n",
       "    <tr>\n",
       "      <th>2</th>\n",
       "      <td>248.987456</td>\n",
       "      <td>208.145755</td>\n",
       "      <td>231.704538</td>\n",
       "      <td>253.883536</td>\n",
       "      <td>238.387286</td>\n",
       "      <td>236.994187</td>\n",
       "      <td>245.440354</td>\n",
       "      <td>217.821549</td>\n",
       "      <td>251.157332</td>\n",
       "      <td>201.728614</td>\n",
       "      <td>...</td>\n",
       "      <td>263.730901</td>\n",
       "      <td>196.708956</td>\n",
       "      <td>-1.234502</td>\n",
       "      <td>73.986271</td>\n",
       "      <td>72</td>\n",
       "      <td>0</td>\n",
       "      <td>2</td>\n",
       "      <td>21_11_8_one_mouse.top.irDLC_resnet50_moseq_exa...</td>\n",
       "      <td>f03cddc5-d97c-4a7f-a3ee-6cf6f4225802</td>\n",
       "      <td>False</td>\n",
       "    </tr>\n",
       "    <tr>\n",
       "      <th>3</th>\n",
       "      <td>249.021952</td>\n",
       "      <td>205.856755</td>\n",
       "      <td>232.010474</td>\n",
       "      <td>252.179146</td>\n",
       "      <td>238.529831</td>\n",
       "      <td>235.080427</td>\n",
       "      <td>245.524321</td>\n",
       "      <td>215.731465</td>\n",
       "      <td>251.205988</td>\n",
       "      <td>199.501549</td>\n",
       "      <td>...</td>\n",
       "      <td>263.990718</td>\n",
       "      <td>194.518105</td>\n",
       "      <td>-1.234502</td>\n",
       "      <td>68.677789</td>\n",
       "      <td>72</td>\n",
       "      <td>0</td>\n",
       "      <td>3</td>\n",
       "      <td>21_11_8_one_mouse.top.irDLC_resnet50_moseq_exa...</td>\n",
       "      <td>f03cddc5-d97c-4a7f-a3ee-6cf6f4225802</td>\n",
       "      <td>False</td>\n",
       "    </tr>\n",
       "    <tr>\n",
       "      <th>4</th>\n",
       "      <td>247.853888</td>\n",
       "      <td>203.215113</td>\n",
       "      <td>231.917364</td>\n",
       "      <td>250.662733</td>\n",
       "      <td>238.525716</td>\n",
       "      <td>233.277992</td>\n",
       "      <td>244.940612</td>\n",
       "      <td>213.467954</td>\n",
       "      <td>249.898636</td>\n",
       "      <td>196.790851</td>\n",
       "      <td>...</td>\n",
       "      <td>262.534722</td>\n",
       "      <td>191.146562</td>\n",
       "      <td>-1.251681</td>\n",
       "      <td>86.650928</td>\n",
       "      <td>72</td>\n",
       "      <td>0</td>\n",
       "      <td>4</td>\n",
       "      <td>21_11_8_one_mouse.top.irDLC_resnet50_moseq_exa...</td>\n",
       "      <td>f03cddc5-d97c-4a7f-a3ee-6cf6f4225802</td>\n",
       "      <td>False</td>\n",
       "    </tr>\n",
       "  </tbody>\n",
       "</table>\n",
       "<p>5 rows × 26 columns</p>\n",
       "</div>"
      ],
      "text/plain": [
       "   centroid_x  centroid_y    spine4_x    spine4_y    spine3_x    spine3_y  \\\n",
       "0  245.080544  212.623394  206.233115  262.341012  233.773146  251.264219   \n",
       "1  248.295126  210.512792  243.226305  253.714849  240.685340  236.797162   \n",
       "2  248.987456  208.145755  231.704538  253.883536  238.387286  236.994187   \n",
       "3  249.021952  205.856755  232.010474  252.179146  238.529831  235.080427   \n",
       "4  247.853888  203.215113  231.917364  250.662733  238.525716  233.277992   \n",
       "\n",
       "     spine2_x    spine2_y    spine1_x    spine1_y  ...  left ear_x  \\\n",
       "0  247.025444  229.523557  251.362497  207.188198  ...  265.507982   \n",
       "1  242.668869  218.155256  246.946714  203.179573  ...  257.640641   \n",
       "2  245.440354  217.821549  251.157332  201.728614  ...  263.730901   \n",
       "3  245.524321  215.731465  251.205988  199.501549  ...  263.990718   \n",
       "4  244.940612  213.467954  249.898636  196.790851  ...  262.534722   \n",
       "\n",
       "   left ear_y   heading  velocity_px_s  syllable  syllables_reindexed  \\\n",
       "0  194.962114 -1.221973       0.000000        72                    0   \n",
       "1  198.848237 -1.221973     115.366192        72                    0   \n",
       "2  196.708956 -1.234502      73.986271        72                    0   \n",
       "3  194.518105 -1.234502      68.677789        72                    0   \n",
       "4  191.146562 -1.251681      86.650928        72                    0   \n",
       "\n",
       "   frame_index                                       session_name  \\\n",
       "0            0  21_11_8_one_mouse.top.irDLC_resnet50_moseq_exa...   \n",
       "1            1  21_11_8_one_mouse.top.irDLC_resnet50_moseq_exa...   \n",
       "2            2  21_11_8_one_mouse.top.irDLC_resnet50_moseq_exa...   \n",
       "3            3  21_11_8_one_mouse.top.irDLC_resnet50_moseq_exa...   \n",
       "4            4  21_11_8_one_mouse.top.irDLC_resnet50_moseq_exa...   \n",
       "\n",
       "                                   uuid  onset  \n",
       "0  f03cddc5-d97c-4a7f-a3ee-6cf6f4225802   True  \n",
       "1  f03cddc5-d97c-4a7f-a3ee-6cf6f4225802  False  \n",
       "2  f03cddc5-d97c-4a7f-a3ee-6cf6f4225802  False  \n",
       "3  f03cddc5-d97c-4a7f-a3ee-6cf6f4225802  False  \n",
       "4  f03cddc5-d97c-4a7f-a3ee-6cf6f4225802  False  \n",
       "\n",
       "[5 rows x 26 columns]"
      ]
     },
     "execution_count": 15,
     "metadata": {},
     "output_type": "execute_result"
    }
   ],
   "source": [
    "from keypoint_moseq.viz.util import compute_moseq_df\n",
    "\n",
    "threshold = 0.005\n",
    "\n",
    "moseq_df = compute_moseq_df(results_dict, config)\n",
    "print('moseq_df shape is', moseq_df.shape)\n",
    "moseq_df.head()"
   ]
  },
  {
   "cell_type": "markdown",
   "metadata": {},
   "source": [
    "### add group label"
   ]
  },
  {
   "cell_type": "code",
   "execution_count": 16,
   "metadata": {},
   "outputs": [
    {
     "data": {
      "text/html": [
       "<div>\n",
       "<style scoped>\n",
       "    .dataframe tbody tr th:only-of-type {\n",
       "        vertical-align: middle;\n",
       "    }\n",
       "\n",
       "    .dataframe tbody tr th {\n",
       "        vertical-align: top;\n",
       "    }\n",
       "\n",
       "    .dataframe thead th {\n",
       "        text-align: right;\n",
       "    }\n",
       "</style>\n",
       "<table border=\"1\" class=\"dataframe\">\n",
       "  <thead>\n",
       "    <tr style=\"text-align: right;\">\n",
       "      <th></th>\n",
       "      <th>session_name</th>\n",
       "      <th>uuid</th>\n",
       "    </tr>\n",
       "  </thead>\n",
       "  <tbody>\n",
       "    <tr>\n",
       "      <th>0</th>\n",
       "      <td>21_11_8_one_mouse.top.irDLC_resnet50_moseq_exa...</td>\n",
       "      <td>f03cddc5-d97c-4a7f-a3ee-6cf6f4225802</td>\n",
       "    </tr>\n",
       "    <tr>\n",
       "      <th>71524</th>\n",
       "      <td>21_12_10_def6a_1_1.top.irDLC_resnet50_moseq_ex...</td>\n",
       "      <td>bdc89531-a802-4011-a7c8-b7eb61f5077a</td>\n",
       "    </tr>\n",
       "    <tr>\n",
       "      <th>125036</th>\n",
       "      <td>21_12_10_def6a_3.top.irDLC_resnet50_moseq_exam...</td>\n",
       "      <td>696a01af-ad15-447e-858e-acc4c445243e</td>\n",
       "    </tr>\n",
       "    <tr>\n",
       "      <th>160854</th>\n",
       "      <td>21_12_10_def6b_3.top.irDLC_resnet50_moseq_exam...</td>\n",
       "      <td>ae30292c-9389-4d72-b084-d4fe38e5922f</td>\n",
       "    </tr>\n",
       "    <tr>\n",
       "      <th>214381</th>\n",
       "      <td>21_12_2_def6a_1.top.irDLC_resnet50_moseq_examp...</td>\n",
       "      <td>e51b46bd-7c0f-4b9d-8acc-a044c3e8c2cd</td>\n",
       "    </tr>\n",
       "    <tr>\n",
       "      <th>321888</th>\n",
       "      <td>21_12_2_def6b_2.top.irDLC_resnet50_moseq_examp...</td>\n",
       "      <td>08125a5c-e2da-4f87-9096-1aab72e76b41</td>\n",
       "    </tr>\n",
       "    <tr>\n",
       "      <th>429408</th>\n",
       "      <td>22_04_26_cage4_0.top.irDLC_resnet50_moseq_exam...</td>\n",
       "      <td>885e2548-8a99-4c65-8917-6a325f5259a5</td>\n",
       "    </tr>\n",
       "    <tr>\n",
       "      <th>483031</th>\n",
       "      <td>22_04_26_cage4_0_2.top.irDLC_resnet50_moseq_ex...</td>\n",
       "      <td>e3d007de-c0c0-4a7d-84bf-4f096e1b2da7</td>\n",
       "    </tr>\n",
       "    <tr>\n",
       "      <th>536656</th>\n",
       "      <td>22_04_26_cage4_1_1.top.irDLC_resnet50_moseq_ex...</td>\n",
       "      <td>6a77228f-7420-48da-8544-77db14e3f58c</td>\n",
       "    </tr>\n",
       "    <tr>\n",
       "      <th>590288</th>\n",
       "      <td>22_27_04_cage4_mouse2_0.top.irDLC_resnet50_mos...</td>\n",
       "      <td>116dd2f6-aa48-40a3-a237-9f6fccab0641</td>\n",
       "    </tr>\n",
       "  </tbody>\n",
       "</table>\n",
       "</div>"
      ],
      "text/plain": [
       "                                             session_name  \\\n",
       "0       21_11_8_one_mouse.top.irDLC_resnet50_moseq_exa...   \n",
       "71524   21_12_10_def6a_1_1.top.irDLC_resnet50_moseq_ex...   \n",
       "125036  21_12_10_def6a_3.top.irDLC_resnet50_moseq_exam...   \n",
       "160854  21_12_10_def6b_3.top.irDLC_resnet50_moseq_exam...   \n",
       "214381  21_12_2_def6a_1.top.irDLC_resnet50_moseq_examp...   \n",
       "321888  21_12_2_def6b_2.top.irDLC_resnet50_moseq_examp...   \n",
       "429408  22_04_26_cage4_0.top.irDLC_resnet50_moseq_exam...   \n",
       "483031  22_04_26_cage4_0_2.top.irDLC_resnet50_moseq_ex...   \n",
       "536656  22_04_26_cage4_1_1.top.irDLC_resnet50_moseq_ex...   \n",
       "590288  22_27_04_cage4_mouse2_0.top.irDLC_resnet50_mos...   \n",
       "\n",
       "                                        uuid  \n",
       "0       f03cddc5-d97c-4a7f-a3ee-6cf6f4225802  \n",
       "71524   bdc89531-a802-4011-a7c8-b7eb61f5077a  \n",
       "125036  696a01af-ad15-447e-858e-acc4c445243e  \n",
       "160854  ae30292c-9389-4d72-b084-d4fe38e5922f  \n",
       "214381  e51b46bd-7c0f-4b9d-8acc-a044c3e8c2cd  \n",
       "321888  08125a5c-e2da-4f87-9096-1aab72e76b41  \n",
       "429408  885e2548-8a99-4c65-8917-6a325f5259a5  \n",
       "483031  e3d007de-c0c0-4a7d-84bf-4f096e1b2da7  \n",
       "536656  6a77228f-7420-48da-8544-77db14e3f58c  \n",
       "590288  116dd2f6-aa48-40a3-a237-9f6fccab0641  "
      ]
     },
     "execution_count": 16,
     "metadata": {},
     "output_type": "execute_result"
    }
   ],
   "source": [
    "group_lbl_df = moseq_df[['session_name', 'uuid']].drop_duplicates(['uuid'])\n",
    "group_lbl_df"
   ]
  },
  {
   "cell_type": "code",
   "execution_count": 17,
   "metadata": {},
   "outputs": [],
   "source": [
    "group_lbl_df['group'] = ['a', 'b', 'a', 'b', 'a', 'a', 'b', 'b', 'a', 'b']"
   ]
  },
  {
   "cell_type": "code",
   "execution_count": 18,
   "metadata": {},
   "outputs": [],
   "source": [
    "group_lbl_df=group_lbl_df.drop(['session_name'], axis=1)\n",
    "moseq_df = pd.merge(moseq_df, group_lbl_df, how = 'right', on='uuid')"
   ]
  },
  {
   "cell_type": "code",
   "execution_count": null,
   "metadata": {},
   "outputs": [],
   "source": [
    "moseq_df.head()"
   ]
  },
  {
   "cell_type": "markdown",
   "metadata": {},
   "source": [
    "### export moseq_df"
   ]
  },
  {
   "cell_type": "code",
   "execution_count": 5,
   "metadata": {},
   "outputs": [],
   "source": [
    "# import os\n",
    "# moseq_df.to_csv(os.path.join(project_dir, name, 'moseq_df.csv'))"
   ]
  },
  {
   "cell_type": "markdown",
   "metadata": {},
   "source": [
    "## Compute stats_df (mean_df)"
   ]
  },
  {
   "cell_type": "code",
   "execution_count": 20,
   "metadata": {},
   "outputs": [],
   "source": [
    "from keypoint_moseq.viz.util import compute_stats_df"
   ]
  },
  {
   "cell_type": "code",
   "execution_count": 21,
   "metadata": {},
   "outputs": [
    {
     "name": "stdout",
     "output_type": "stream",
     "text": [
      "stats_df shape is (210, 10)\n"
     ]
    },
    {
     "data": {
      "text/html": [
       "<div>\n",
       "<style scoped>\n",
       "    .dataframe tbody tr th:only-of-type {\n",
       "        vertical-align: middle;\n",
       "    }\n",
       "\n",
       "    .dataframe tbody tr th {\n",
       "        vertical-align: top;\n",
       "    }\n",
       "\n",
       "    .dataframe thead th {\n",
       "        text-align: right;\n",
       "    }\n",
       "</style>\n",
       "<table border=\"1\" class=\"dataframe\">\n",
       "  <thead>\n",
       "    <tr style=\"text-align: right;\">\n",
       "      <th></th>\n",
       "      <th>group</th>\n",
       "      <th>uuid</th>\n",
       "      <th>session_name</th>\n",
       "      <th>syllable</th>\n",
       "      <th>usage</th>\n",
       "      <th>duration</th>\n",
       "      <th>heading_mean</th>\n",
       "      <th>heading_std</th>\n",
       "      <th>heading_min</th>\n",
       "      <th>heading_max</th>\n",
       "    </tr>\n",
       "  </thead>\n",
       "  <tbody>\n",
       "    <tr>\n",
       "      <th>0</th>\n",
       "      <td>a</td>\n",
       "      <td>08125a5c-e2da-4f87-9096-1aab72e76b41</td>\n",
       "      <td>21_12_2_def6b_2.top.irDLC_resnet50_moseq_examp...</td>\n",
       "      <td>0</td>\n",
       "      <td>0.129237</td>\n",
       "      <td>0.455135</td>\n",
       "      <td>0.224951</td>\n",
       "      <td>1.773402</td>\n",
       "      <td>-3.141578</td>\n",
       "      <td>3.141282</td>\n",
       "    </tr>\n",
       "    <tr>\n",
       "      <th>1</th>\n",
       "      <td>a</td>\n",
       "      <td>696a01af-ad15-447e-858e-acc4c445243e</td>\n",
       "      <td>21_12_10_def6a_3.top.irDLC_resnet50_moseq_exam...</td>\n",
       "      <td>0</td>\n",
       "      <td>0.237266</td>\n",
       "      <td>0.551369</td>\n",
       "      <td>-0.075153</td>\n",
       "      <td>2.105580</td>\n",
       "      <td>-3.141505</td>\n",
       "      <td>3.141534</td>\n",
       "    </tr>\n",
       "    <tr>\n",
       "      <th>2</th>\n",
       "      <td>a</td>\n",
       "      <td>6a77228f-7420-48da-8544-77db14e3f58c</td>\n",
       "      <td>22_04_26_cage4_1_1.top.irDLC_resnet50_moseq_ex...</td>\n",
       "      <td>0</td>\n",
       "      <td>0.124952</td>\n",
       "      <td>0.444285</td>\n",
       "      <td>-0.174892</td>\n",
       "      <td>1.611183</td>\n",
       "      <td>-3.138876</td>\n",
       "      <td>3.140992</td>\n",
       "    </tr>\n",
       "    <tr>\n",
       "      <th>3</th>\n",
       "      <td>a</td>\n",
       "      <td>e51b46bd-7c0f-4b9d-8acc-a044c3e8c2cd</td>\n",
       "      <td>21_12_2_def6a_1.top.irDLC_resnet50_moseq_examp...</td>\n",
       "      <td>0</td>\n",
       "      <td>0.156143</td>\n",
       "      <td>0.479200</td>\n",
       "      <td>0.087142</td>\n",
       "      <td>1.577182</td>\n",
       "      <td>-3.141536</td>\n",
       "      <td>3.141176</td>\n",
       "    </tr>\n",
       "    <tr>\n",
       "      <th>4</th>\n",
       "      <td>a</td>\n",
       "      <td>f03cddc5-d97c-4a7f-a3ee-6cf6f4225802</td>\n",
       "      <td>21_11_8_one_mouse.top.irDLC_resnet50_moseq_exa...</td>\n",
       "      <td>0</td>\n",
       "      <td>0.136080</td>\n",
       "      <td>0.473820</td>\n",
       "      <td>0.273088</td>\n",
       "      <td>1.674038</td>\n",
       "      <td>-3.141411</td>\n",
       "      <td>3.141155</td>\n",
       "    </tr>\n",
       "  </tbody>\n",
       "</table>\n",
       "</div>"
      ],
      "text/plain": [
       "  group                                  uuid  \\\n",
       "0     a  08125a5c-e2da-4f87-9096-1aab72e76b41   \n",
       "1     a  696a01af-ad15-447e-858e-acc4c445243e   \n",
       "2     a  6a77228f-7420-48da-8544-77db14e3f58c   \n",
       "3     a  e51b46bd-7c0f-4b9d-8acc-a044c3e8c2cd   \n",
       "4     a  f03cddc5-d97c-4a7f-a3ee-6cf6f4225802   \n",
       "\n",
       "                                        session_name  syllable     usage  \\\n",
       "0  21_12_2_def6b_2.top.irDLC_resnet50_moseq_examp...         0  0.129237   \n",
       "1  21_12_10_def6a_3.top.irDLC_resnet50_moseq_exam...         0  0.237266   \n",
       "2  22_04_26_cage4_1_1.top.irDLC_resnet50_moseq_ex...         0  0.124952   \n",
       "3  21_12_2_def6a_1.top.irDLC_resnet50_moseq_examp...         0  0.156143   \n",
       "4  21_11_8_one_mouse.top.irDLC_resnet50_moseq_exa...         0  0.136080   \n",
       "\n",
       "   duration  heading_mean  heading_std  heading_min  heading_max  \n",
       "0  0.455135      0.224951     1.773402    -3.141578     3.141282  \n",
       "1  0.551369     -0.075153     2.105580    -3.141505     3.141534  \n",
       "2  0.444285     -0.174892     1.611183    -3.138876     3.140992  \n",
       "3  0.479200      0.087142     1.577182    -3.141536     3.141176  \n",
       "4  0.473820      0.273088     1.674038    -3.141411     3.141155  "
      ]
     },
     "execution_count": 21,
     "metadata": {},
     "output_type": "execute_result"
    }
   ],
   "source": [
    "syll_key = 'syllables_reindexed'\n",
    "threshold = 0.005\n",
    "stats_df = compute_stats_df(moseq_df, threshold = threshold, groupby = ['group', 'uuid', 'session_name'], fps = 30, syll_key = syll_key, normalize = True)\n",
    "print('stats_df shape is', stats_df.shape)\n",
    "stats_df.head()"
   ]
  },
  {
   "cell_type": "code",
   "execution_count": 8,
   "metadata": {},
   "outputs": [],
   "source": [
    "# import os\n",
    "# stats_df.to_csv(os.path.join(project_dir, name, 'stats_df.csv'))"
   ]
  },
  {
   "cell_type": "markdown",
   "metadata": {},
   "source": [
    "## MoSeq fingerprint"
   ]
  },
  {
   "cell_type": "code",
   "execution_count": 48,
   "metadata": {},
   "outputs": [
    {
     "data": {
      "image/png": "[encoded data removed]",
      "text/plain": [
       "<Figure size 2000x1800 with 4 Axes>"
      ]
     },
     "metadata": {},
     "output_type": "display_data"
    }
   ],
   "source": [
    "from keypoint_moseq.viz.util import create_fingerprint_dataframe, plotting_fingerprint\n",
    "from sklearn.preprocessing import MinMaxScaler, StandardScaler\n",
    "\n",
    "stat_type = 'mean'\n",
    "n_bins = 100  # resolution of distribution \n",
    "range_type = 'robust'  # robust or full\n",
    "preprocessor = MinMaxScaler()\n",
    "\n",
    "summary, range_dict = create_fingerprint_dataframe(moseq_df, stats_df, stat_type=stat_type, n_bins=n_bins, range_type=range_type)\n",
    "plotting_fingerprint(summary, range_dict, preprocessor=preprocessor)"
   ]
  },
  {
   "cell_type": "markdown",
   "metadata": {},
   "source": [
    "## Usage plot"
   ]
  },
  {
   "cell_type": "code",
   "execution_count": 23,
   "metadata": {},
   "outputs": [],
   "source": [
    "from keypoint_moseq.viz.util import plot_syll_stats_with_sem"
   ]
  },
  {
   "cell_type": "code",
   "execution_count": 28,
   "metadata": {},
   "outputs": [
    {
     "name": "stderr",
     "output_type": "stream",
     "text": [
      "/Users/sherry/Desktop/MoSeq/keypointMoSeq/keypoint_moseq/viz/util.py:514: FutureWarning: \n",
      "\n",
      "The `ci` parameter is deprecated. Use `errorbar=('ci', 68)` for the same effect.\n",
      "\n",
      "  palette=colors)\n"
     ]
    },
    {
     "data": {
      "text/plain": [
       "(<Figure size 1000x500 with 1 Axes>,\n",
       " <matplotlib.legend.Legend at 0x7faea4f24190>)"
      ]
     },
     "execution_count": 28,
     "metadata": {},
     "output_type": "execute_result"
    },
    {
     "data": {
      "image/png": "[encoded data removed]",
      "text/plain": [
       "<Figure size 1000x500 with 1 Axes>"
      ]
     },
     "metadata": {},
     "output_type": "display_data"
    }
   ],
   "source": [
    "ordering='stat'\n",
    "\n",
    "groups = stats_df['group'].unique()\n",
    "ctrl_group='a'\n",
    "exp_group='b'\n",
    "\n",
    "join=False\n",
    "\n",
    "plot_syll_stats_with_sem(stats_df, syll_info=None, sig_sylls=None, stat='usage', ordering=ordering, max_sylls=None,\n",
    "                             groups=groups, ctrl_group=ctrl_group, exp_group=exp_group, colors=None, join=True, figsize=(10, 5))"
   ]
  },
  {
   "cell_type": "markdown",
   "metadata": {},
   "source": [
    "## Transition matrices"
   ]
  },
  {
   "cell_type": "code",
   "execution_count": 29,
   "metadata": {},
   "outputs": [],
   "source": [
    "from keypoint_moseq.viz.util import get_group_trans_mats"
   ]
  },
  {
   "cell_type": "code",
   "execution_count": 30,
   "metadata": {},
   "outputs": [
    {
     "name": "stdout",
     "output_type": "stream",
     "text": [
      "Group(s): a, b\n"
     ]
    },
    {
     "name": "stderr",
     "output_type": "stream",
     "text": [
      "Computing bigram transition probabilities: 100%|██████████| 5/5 [00:00<00:00, 139.00it/s]\n",
      "Computing bigram transition probabilities: 100%|██████████| 5/5 [00:00<00:00, 213.37it/s]\n"
     ]
    }
   ],
   "source": [
    "max_syllables = 40 \n",
    "normalize='bigram'\n",
    "uuid_groups = stats_df[['uuid', 'group', 'session_name']].drop_duplicates(['uuid']).to_numpy()\n",
    "label_group, uuids, sessions = uuid_groups[:,1], uuid_groups[:, 0], uuid_groups[:,2]\n",
    "group = list(set(label_group))\n",
    "print('Group(s):', ', '.join(group))\n",
    "model_labels = [results_dict[session][syll_key] for session in sessions]\n",
    "trans_mats, usages = get_group_trans_mats(model_labels, label_group, group, max_sylls=max_syllables, normalize=normalize)"
   ]
  },
  {
   "cell_type": "code",
   "execution_count": 47,
   "metadata": {},
   "outputs": [
    {
     "name": "stdout",
     "output_type": "stream",
     "text": [
      "20\n"
     ]
    },
    {
     "data": {
      "image/png": "[encoded data removed]",
      "text/plain": [
       "<Figure size 1200x1500 with 4 Axes>"
      ]
     },
     "metadata": {},
     "output_type": "display_data"
    }
   ],
   "source": [
    "max_syllables = int(stats_df.syllable.max())\n",
    "print(max_syllables)\n",
    "fig, ax = plt.subplots(1, len(group), figsize=(12, 15), sharex=False, sharey=True)\n",
    "title_map = dict(bigram='Bigram', columns='Incoming', rows='Outgoing')\n",
    "\n",
    "# max color threshold for graphs - set to any value \n",
    "color_lim = max([x.max() for x in trans_mats])\n",
    "\n",
    "for i, g in enumerate(group):\n",
    "    h = ax[i].imshow(trans_mats[i][:max_syllables,:max_syllables], cmap='cubehelix', vmax=color_lim)\n",
    "    if i == 0:\n",
    "        ax[i].set_ylabel('Incoming syllable')\n",
    "        plt.yticks(np.arange(0, max_syllables, 4))\n",
    "    cb = fig.colorbar(h, ax=ax[i], fraction=0.046, pad=0.04)\n",
    "    cb.set_label(f'{title_map[normalize]} transition probability')\n",
    "    ax[i].set_xlabel('Outgoing syllable')\n",
    "    ax[i].set_title(g)\n",
    "    ax[i].set_xticks(np.arange(0, max_syllables, 4))\n",
    "    "
   ]
  }
 ],
 "metadata": {
  "kernelspec": {
   "display_name": "Python 3.7.15 ('kpm')",
   "language": "python",
   "name": "python3"
  },
  "language_info": {
   "codemirror_mode": {
    "name": "ipython",
    "version": 3
   },
   "file_extension": ".py",
   "mimetype": "text/x-python",
   "name": "python",
   "nbconvert_exporter": "python",
   "pygments_lexer": "ipython3",
   "version": "3.7.15"
  },
  "orig_nbformat": 4,
  "vscode": {
   "interpreter": {
    "hash": "96b07f6b0d7d6c69561ad5b81ac84f93e130583ec83ca6b62fabbd60f1a007e2"
   }
  }
 },
 "nbformat": 4,
 "nbformat_minor": 2
}
