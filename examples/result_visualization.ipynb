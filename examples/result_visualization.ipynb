{
 "cells": [
  {
   "cell_type": "markdown",
   "metadata": {},
   "source": [
    "## Keypoint MoSeq Result Visualization\n",
    "\n",
    "#### This notebook visualize results from Keypoint MoSeq (e.g. from DeepLabCut)\n",
    "\n",
    "- Make a copy of this notebook if you plan to make changes and want them saved\n",
    "- Download the [example data](https://drive.google.com/drive/folders/1UNHQ_XCQEKLPPSjGspRopWBj6-YNDV6G?usp=share_link) to your drive or create a shortcut to it\n",
    "- Go to \"Runtime\">\"change runtime type\" and select \"Python 3\" and \"GPU\"\n",
    "- At the beginning of this notebook, you should have set up your project folder, and model object(s)."
   ]
  },
  {
   "cell_type": "markdown",
   "metadata": {},
   "source": [
    "### Setup project directory\n",
    "- Edit `project_dir` so the `project_dir` points to the project folder where the the example data lives."
   ]
  },
  {
   "cell_type": "code",
   "execution_count": null,
   "metadata": {},
   "outputs": [],
   "source": [
    "import keypoint_moseq as kpm\n",
    "\n",
    "import numpy as np\n",
    "import pandas as pd\n",
    "import matplotlib.pyplot as plt"
   ]
  },
  {
   "cell_type": "code",
   "execution_count": null,
   "metadata": {},
   "outputs": [],
   "source": [
    "# input project folder path\n",
    "project_dir = '/Users/sherry/Desktop/keypoint_moseq/test2'\n",
    "# load the config file\n",
    "config = kpm.load_config(project_dir)"
   ]
  },
  {
   "cell_type": "markdown",
   "metadata": {},
   "source": [
    "### Load model\n",
    "Load in the model object as a dictionary for the analysis."
   ]
  },
  {
   "cell_type": "code",
   "execution_count": null,
   "metadata": {},
   "outputs": [],
   "source": [
    "# input model name\n",
    "name = '2022_11_13-16_02_22'\n",
    "# load model object as a dictionary\n",
    "results_dict = kpm.load_results(project_dir=project_dir, name=name)"
   ]
  },
  {
   "cell_type": "markdown",
   "metadata": {},
   "source": [
    "## Compute moseq_df (scalar_df)\n",
    "\n",
    "Kinematic values such as velocity and heading are extracte from the keypoints while the models identify behavioral motifs (syllables).\n",
    "The steps below combine these data streams into a `DataFrame`. Learn more about `DataFrames` on [pandas's website](https://pandas.pydata.org/pandas-docs/stable/user_guide/dsintro.html).\n",
    "\n",
    "`DataFrames` are both useful for the analysis and visualization cells below, and are a great way to organize data.\n",
    "This means you can save and export them in multiple formats to run custom analyses in the software of your choosing."
   ]
  },
  {
   "cell_type": "code",
   "execution_count": null,
   "metadata": {},
   "outputs": [],
   "source": [
    "from keypoint_moseq.viz.util import compute_moseq_df\n",
    "\n",
    "# compute the frame by frame dataframe for kinematic values, coordinates and syllable labels\n",
    "moseq_df = compute_moseq_df(results_dict, config)\n",
    "print('moseq_df shape is', moseq_df.shape)\n",
    "moseq_df.head()"
   ]
  },
  {
   "cell_type": "markdown",
   "metadata": {},
   "source": [
    "#### add group label\n",
    "This step shows the session names and the associated uuids. Check the session names and assgin group labels to the sessions.\n"
   ]
  },
  {
   "cell_type": "code",
   "execution_count": null,
   "metadata": {},
   "outputs": [],
   "source": [
    "group_lbl_df = moseq_df[['session_name', 'uuid']].drop_duplicates(['uuid'])\n",
    "print('Session information below')\n",
    "group_lbl_df"
   ]
  },
  {
   "cell_type": "code",
   "execution_count": null,
   "metadata": {},
   "outputs": [],
   "source": [
    "# assign group labels.\n",
    "# length of groups must match the length of all session names\n",
    "group_lbl_df['group'] = ['a', 'b', 'a', 'b', 'a', 'a', 'b', 'b', 'a', 'b']"
   ]
  },
  {
   "cell_type": "code",
   "execution_count": null,
   "metadata": {},
   "outputs": [],
   "source": [
    "# merge the session group information with moseq_df\n",
    "group_lbl_df=group_lbl_df.drop(['session_name'], axis=1)\n",
    "moseq_df = pd.merge(moseq_df, group_lbl_df, how = 'right', on='uuid')"
   ]
  },
  {
   "cell_type": "code",
   "execution_count": null,
   "metadata": {},
   "outputs": [],
   "source": [
    "print('moseq_df shape is', moseq_df.shape)\n",
    "moseq_df.head()"
   ]
  },
  {
   "cell_type": "markdown",
   "metadata": {},
   "source": [
    "#### export moseq_df\n",
    "\n",
    "You can export the `moseq_df` to a csv file for further analysis using the following cell.\n",
    "\n",
    "- Edit the path to point to where you want to save the dataframe in `save_path`. By default, the file will be saved to `base_dir`."
   ]
  },
  {
   "cell_type": "code",
   "execution_count": null,
   "metadata": {},
   "outputs": [],
   "source": [
    "# import os\n",
    "# moseq_df.to_csv(os.path.join(project_dir, name, 'moseq_df.csv'))"
   ]
  },
  {
   "cell_type": "markdown",
   "metadata": {},
   "source": [
    "## Compute `stats_df`\n",
    "`stats_df` is a `DataFrame` that contains statistical summaries (i.e., min, max, mean, std) of scalar values associated with each syllable, as well as the frequency each syllable is expressed. By default, it is computed using the features included in `moseq_df` for each session independently. This dataframe will be used to plot syllable statistics and perform hypothesis testing.\n",
    "\n",
    "The function can group data into whichever categories you supply into the `groupby` parameter.\n",
    "By default, we group by \"group\" (the experimental cohort) and \"uuid\" (each unique recording session).\n",
    "An alternative is to groupby by experimental cohort and mouse: `groupby = ['group', 'SubjectName']`.\n",
    "\n",
    "By default, each row of the `stats_df` contains the average syllable usage for one syllable for one group (experimental cohort) within one uuid (session). Changing the contents of the `groupby` variable will change the contents of the `stats_df`."
   ]
  },
  {
   "cell_type": "code",
   "execution_count": null,
   "metadata": {},
   "outputs": [],
   "source": [
    "from keypoint_moseq.viz.util import compute_stats_df"
   ]
  },
  {
   "cell_type": "code",
   "execution_count": null,
   "metadata": {},
   "outputs": [],
   "source": [
    "# key to the syllable column\n",
    "syll_key = 'syllables_reindexed'\n",
    "# set threshold to include syllable with usages above threshold\n",
    "threshold = 0.005\n",
    "stats_df = compute_stats_df(moseq_df, threshold = threshold, groupby = ['group', 'uuid', 'session_name'], fps = 30, syll_key = syll_key, normalize = True)\n",
    "print('stats_df shape is', stats_df.shape)\n",
    "stats_df.head()"
   ]
  },
  {
   "cell_type": "markdown",
   "metadata": {},
   "source": [
    "#### export moseq_df\n",
    "\n",
    "\n",
    "You can export the `stats_df` to a csv file for further analysis using the following cell.\n",
    "\n",
    "- Edit the path to point to where you want to save the dataframe in `save_path`. By default, the file will be saved to `base_dir`."
   ]
  },
  {
   "cell_type": "code",
   "execution_count": null,
   "metadata": {},
   "outputs": [],
   "source": [
    "# import os\n",
    "# stats_df.to_csv(os.path.join(project_dir, name, 'stats_df.csv'))"
   ]
  },
  {
   "cell_type": "markdown",
   "metadata": {},
   "source": [
    "## Generate Behavioral Summary (Fingerprints)\n",
    "Fingerprints summarize behavior by showing distributions of kinematic values and syllables.\n",
    "These plots can be used as a useful diagnostic tool.\n",
    "Sessions where the mouse wasn't extracted properly or moves too much or little can be identified in these plots.\n",
    "\n",
    "The following cell generates the summary dataframe and plots the behavioral summary. The fingerprint plot will be automatically saved as png and pdf in the `plots` folder in the model directory.\n",
    "\n",
    "- Set `n_bins` variable to an integer to specify the number of bins for the kinematic values. Set `n_bins` variable to `None` if you want the number of bins to match the number of syllables. `n_bins` does not bin syllables.\n",
    "- Set `range_type` variable to 'robust' to include data ranging from 1 percentile top 99 percentile. Set `range_type` variable to 'full' to include all the data.\n",
    "- Assign an `sklearn.preprocessing` object to `preprocessor` variable if you want to scale the values by session. `preprocessor` variable is set to `None`, the figure will show the proportion of data filling each bin.\n"
   ]
  },
  {
   "cell_type": "code",
   "execution_count": null,
   "metadata": {},
   "outputs": [],
   "source": [
    "from keypoint_moseq.viz.util import create_fingerprint_dataframe, plotting_fingerprint\n",
    "from sklearn.preprocessing import MinMaxScaler, StandardScaler\n",
    "\n",
    "stat_type = 'mean'\n",
    "n_bins = 100  # resolution of distribution \n",
    "range_type = 'robust'  # robust or full\n",
    "preprocessor = MinMaxScaler()\n",
    "\n",
    "summary, range_dict = create_fingerprint_dataframe(moseq_df, stats_df, stat_type=stat_type, n_bins=n_bins, range_type=range_type)\n",
    "plotting_fingerprint(summary, range_dict, preprocessor=preprocessor)"
   ]
  },
  {
   "cell_type": "markdown",
   "metadata": {},
   "source": [
    "## Usage plot\n",
    "\n",
    "Syllable statistics provide information about the behavioral patterns."
   ]
  },
  {
   "cell_type": "code",
   "execution_count": null,
   "metadata": {},
   "outputs": [],
   "source": [
    "from keypoint_moseq.viz.util import plot_syll_stats_with_sem\n",
    "\n",
    "# ordering of syllables, could be 'stat' or 'diff'\n",
    "ordering='stat'\n",
    "# groups to be plotted\n",
    "groups = stats_df['group'].unique()\n",
    "# name of the control group\n",
    "ctrl_group='a'\n",
    "# name of the experimental group\n",
    "exp_group='b'\n",
    "\n",
    "# boolean for whether the dots are connected\n",
    "join=False\n",
    "\n",
    "plot_syll_stats_with_sem(stats_df, syll_info=None, sig_sylls=None, stat='usage', ordering=ordering, max_sylls=None,\n",
    "                             groups=groups, ctrl_group=ctrl_group, exp_group=exp_group, colors=None, join=True, figsize=(10, 5))"
   ]
  },
  {
   "cell_type": "markdown",
   "metadata": {},
   "source": [
    "## Transition matrices\n",
    "Transition matrices compactly represent the frequency any syllable transitions into any other syllable and is one way to describe structure in behavior.\n",
    "The row of the transition matrix represents an incoming syllable, while the column represents the outgoing syllable and the value at a specific row and column position represent the frequency the incoming syllable transitions into the outgoing syllable.\n",
    "\n",
    "These plots can help visualize gross changes in the structure of behavior between two experimental groups. For example, certain syllables that frequently transition into one set of syllables in one experimental condition might transition into a completely different set in another experimental condition."
   ]
  },
  {
   "cell_type": "code",
   "execution_count": null,
   "metadata": {},
   "outputs": [],
   "source": [
    "from keypoint_moseq.viz.util import get_group_trans_mats"
   ]
  },
  {
   "cell_type": "code",
   "execution_count": null,
   "metadata": {},
   "outputs": [],
   "source": [
    "# set maximum syllable to include\n",
    "max_syllables = int(stats_df.syllable.max())\n",
    "print('maximum syllable to include:', max_syllables)\n",
    "# select a transition matrix normalization method\n",
    "normalize='bigram' # options: bigram, columns, rows\n",
    "\n",
    "# Get modeled session uuids to compute group-mean transition graph for each group\n",
    "uuid_groups = stats_df[['uuid', 'group', 'session_name']].drop_duplicates(['uuid']).to_numpy()\n",
    "label_group, uuids, sessions = uuid_groups[:,1], uuid_groups[:, 0], uuid_groups[:,2]\n",
    "group = list(set(label_group))\n",
    "print('Group(s):', ', '.join(group))\n",
    "model_labels = [results_dict[session][syll_key] for session in sessions]\n",
    "# compute transition matrices and usages for each group\n",
    "trans_mats, usages = get_group_trans_mats(model_labels, label_group, group, max_sylls=max_syllables, normalize=normalize)"
   ]
  },
  {
   "cell_type": "code",
   "execution_count": null,
   "metadata": {},
   "outputs": [],
   "source": [
    "# plot the trnsition matrices\n",
    "fig, ax = plt.subplots(1, len(group), figsize=(12, 15), sharex=False, sharey=True)\n",
    "title_map = dict(bigram='Bigram', columns='Incoming', rows='Outgoing')\n",
    "\n",
    "# max color threshold for graphs - set to any value \n",
    "color_lim = max([x.max() for x in trans_mats])\n",
    "\n",
    "for i, g in enumerate(group):\n",
    "    h = ax[i].imshow(trans_mats[i][:max_syllables,:max_syllables], cmap='cubehelix', vmax=color_lim)\n",
    "    if i == 0:\n",
    "        ax[i].set_ylabel('Incoming syllable')\n",
    "        plt.yticks(np.arange(0, max_syllables, 4))\n",
    "    cb = fig.colorbar(h, ax=ax[i], fraction=0.046, pad=0.04)\n",
    "    cb.set_label(f'{title_map[normalize]} transition probability')\n",
    "    ax[i].set_xlabel('Outgoing syllable')\n",
    "    ax[i].set_title(g)\n",
    "    ax[i].set_xticks(np.arange(0, max_syllables, 4))\n",
    "    "
   ]
  }
 ],
 "metadata": {
  "kernelspec": {
   "display_name": "Python 3.7.15 ('kpm')",
   "language": "python",
   "name": "python3"
  },
  "language_info": {
   "codemirror_mode": {
    "name": "ipython",
    "version": 3
   },
   "file_extension": ".py",
   "mimetype": "text/x-python",
   "name": "python",
   "nbconvert_exporter": "python",
   "pygments_lexer": "ipython3",
   "version": "3.7.15"
  },
  "orig_nbformat": 4,
  "vscode": {
   "interpreter": {
    "hash": "96b07f6b0d7d6c69561ad5b81ac84f93e130583ec83ca6b62fabbd60f1a007e2"
   }
  }
 },
 "nbformat": 4,
 "nbformat_minor": 2
}
